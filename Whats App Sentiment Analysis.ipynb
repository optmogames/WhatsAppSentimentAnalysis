{
 "cells": [
  {
   "cell_type": "markdown",
   "metadata": {},
   "source": [
    "# This Notebook illustrates how to analyse a Whatsapp group conversation and analyse sentiment"
   ]
  },
  {
   "cell_type": "markdown",
   "metadata": {},
   "source": [
    "** How do we do this **\n",
    "1. Retrieve conversation from a Whatsapp Group Chat as text file\n",
    "2. Interpret structure of the conversations and build regular expressions to break down in to tokens\n",
    "3. Parse content and build a Pandas dataframe to analyse\n",
    "4. Invoke Google Natural Language API to analyse sentiments"
   ]
  },
  {
   "cell_type": "markdown",
   "metadata": {},
   "source": [
    "** What Python features are used **\n",
    "This notebook explores the following features of Python\n",
    "+ Regular Expressions\n",
    "+ Pandas Data Frames\n",
    "+ Google Natural Language API"
   ]
  },
  {
   "cell_type": "markdown",
   "metadata": {},
   "source": [
    "## 1. Retrieve a conversation from Whatsapp"
   ]
  },
  {
   "cell_type": "markdown",
   "metadata": {},
   "source": [
    "+ Open a Whatsapp conversation\n",
    "+ Open Menu (Top Right)\n",
    "+ Expand More\n",
    "+ Export Chat\n",
    "+ Multiple options are available. Choose E-Mail to get the conversation extract as a mail attachment\n",
    "+ Store in a local file as txt"
   ]
  },
  {
   "cell_type": "markdown",
   "metadata": {},
   "source": [
    "## 2. Interpret converstation structure"
   ]
  },
  {
   "cell_type": "markdown",
   "metadata": {},
   "source": [
    "A typical message could be as follows. The structure can vary based on phone settings"
   ]
  },
  {
   "cell_type": "markdown",
   "metadata": {},
   "source": [
    "5/4/16, 4:44 PM - Vamsi Namburu: Good Morning"
   ]
  },
  {
   "cell_type": "markdown",
   "metadata": {},
   "source": [
    "The string can be broken down in to **date**, **time**, **who** sent the message and **the** message\n",
    "<chat_date>,<chat_time> - <chat_who>: <chat_what>"
   ]
  },
  {
   "cell_type": "markdown",
   "metadata": {},
   "source": [
    "## 3.1 Parse Content"
   ]
  },
  {
   "cell_type": "markdown",
   "metadata": {},
   "source": [
    "Create a Python Regular Expression to extract based on the pattern and delimiters"
   ]
  },
  {
   "cell_type": "markdown",
   "metadata": {},
   "source": [
    "#### 3.1.1 Regular Expression for each message"
   ]
  },
  {
   "cell_type": "code",
   "execution_count": 1,
   "metadata": {},
   "outputs": [],
   "source": [
    "import re\n",
    "pattern_extract_all = re.compile(r'(?P<chat_date>\\d{1,2}\\/\\d{1,2}\\/\\d{2,4}),\\s(?P<chat_time>\\d{1,2}:\\d{1,2}\\s[A|P]M)\\s-\\s(?P<chat_who>[^:]+):(?P<chat_what>.*)')"
   ]
  },
  {
   "cell_type": "markdown",
   "metadata": {},
   "source": [
    "#### 3.1.2 Helper expression to check if the message starts with a date to distinguish between a new message and new line within a message"
   ]
  },
  {
   "cell_type": "code",
   "execution_count": 2,
   "metadata": {},
   "outputs": [],
   "source": [
    "pattern_sw_date = re.compile(r'^(?P<chat_date>\\d{1,2}\\/\\d{1,2}\\/\\d{2,4})')"
   ]
  },
  {
   "cell_type": "code",
   "execution_count": 3,
   "metadata": {},
   "outputs": [],
   "source": [
    "# Import other standard libraries\n",
    "import string\n",
    "from datetime import datetime\n",
    "\n",
    "\n",
    "\n",
    "\n",
    "\n"
   ]
  },
  {
   "cell_type": "code",
   "execution_count": 4,
   "metadata": {},
   "outputs": [],
   "source": [
    "#Open whatsapp conversation export\n",
    "fhand = open('WHATSAPP_ANALYSIS.txt','r')"
   ]
  },
  {
   "cell_type": "code",
   "execution_count": 5,
   "metadata": {},
   "outputs": [],
   "source": [
    "# Some variables to parse the whatsapp text\n",
    "prev_mesg = ''\n",
    "mesg_list = list()  # A List to hold each message\n",
    "media_mesg = 'N'"
   ]
  },
  {
   "cell_type": "markdown",
   "metadata": {},
   "source": [
    "#### 3.1.3 Loop through the lines,  gather tokens from the messages, build a message list"
   ]
  },
  {
   "cell_type": "code",
   "execution_count": 6,
   "metadata": {},
   "outputs": [],
   "source": [
    "for line in fhand:\n",
    "    if len(line.rstrip()) < 1 : continue  #Ignore empty lines\n",
    "    #print len(line)    \n",
    "    first_line_of_mesg = pattern_sw_date.search(line.rstrip())\n",
    "    if first_line_of_mesg:\n",
    "        if len(prev_mesg) > 0 :\n",
    "            mesg_list.append((chat_date,chat_time,chat_who,prev_mesg,len(prev_mesg),media_mesg)) # Message is a tuple of all tokens\n",
    "        prev_mesg = ''\n",
    "        media_mesg ='N'\n",
    "        read_all_patterns = pattern_extract_all.search(line.rstrip())\n",
    "        if read_all_patterns:\n",
    "            chat_date = read_all_patterns.group('chat_date')\n",
    "            chat_time = read_all_patterns.group('chat_time')\n",
    "            chat_who = read_all_patterns.group('chat_who')\n",
    "            chat_what = read_all_patterns.group('chat_what')\n",
    "            if chat_what.find('<Media omitted>') != -1 : media_mesg = 'Y'\n",
    "            prev_mesg = chat_what\n",
    "            #print chat_date,chat_time,chat_who,chat_what\n",
    "    else:\n",
    "        # Simply accumulate the line\n",
    "        prev_mesg = prev_mesg+line\n",
    "fhand.close()"
   ]
  },
  {
   "cell_type": "markdown",
   "metadata": {},
   "source": [
    "#### 3.1.4 Examine a sample message"
   ]
  },
  {
   "cell_type": "code",
   "execution_count": 7,
   "metadata": {},
   "outputs": [
    {
     "data": {
      "text/plain": [
       "('5/4/16',\n",
       " '4:44 PM',\n",
       " 'Vamsi Namburu',\n",
       " ' I am also stuck and busy here.',\n",
       " 31,\n",
       " 'N')"
      ]
     },
     "execution_count": 7,
     "metadata": {},
     "output_type": "execute_result"
    }
   ],
   "source": [
    "mesg_list[12]"
   ]
  },
  {
   "cell_type": "markdown",
   "metadata": {},
   "source": [
    "### 3.2 Convert the list of tuples in to a dictionary with headers to convert into a DataFrame"
   ]
  },
  {
   "cell_type": "markdown",
   "metadata": {},
   "source": [
    "Import few data science libraries"
   ]
  },
  {
   "cell_type": "code",
   "execution_count": 8,
   "metadata": {},
   "outputs": [],
   "source": [
    "# Data Science Libraries for data analysis and plotting\n",
    "import pandas as pd\n",
    "import numpy as np\n",
    "from matplotlib import pyplot as plt\n",
    "from matplotlib import cm\n",
    "%matplotlib notebook\n"
   ]
  },
  {
   "cell_type": "markdown",
   "metadata": {},
   "source": [
    "#### 3.2.1 A function to convert a list to a dictionary"
   ]
  },
  {
   "cell_type": "code",
   "execution_count": 9,
   "metadata": {},
   "outputs": [],
   "source": [
    "\n",
    "def convert_to_dict_list(mesg_list):\n",
    "    refined_mesg_list = []\n",
    "    for idx in range(len(mesg_list)):\n",
    "        d = { 'when_day' : datetime.date(datetime.strptime(mesg_list[idx][0],'%m/%d/%y')), \\\n",
    "              'when_time': datetime.time(datetime.strptime(mesg_list[idx][1],'%I:%M %p')), \\\n",
    "              'who_sent' : mesg_list[idx][2], \\\n",
    "              'sent_what' : mesg_list[idx][3],\\\n",
    "              'how_much' : mesg_list[idx][4], \\\n",
    "              'sent_media' : mesg_list[idx][5]\n",
    "            }\n",
    "        refined_mesg_list.append(d)\n",
    "    return refined_mesg_list"
   ]
  },
  {
   "cell_type": "code",
   "execution_count": 10,
   "metadata": {},
   "outputs": [],
   "source": [
    "dct = convert_to_dict_list(mesg_list)"
   ]
  },
  {
   "cell_type": "markdown",
   "metadata": {},
   "source": [
    "#### 3.2.2 Convert the dictionary into a pandas DataFrame"
   ]
  },
  {
   "cell_type": "code",
   "execution_count": 11,
   "metadata": {},
   "outputs": [],
   "source": [
    "def convert_to_DF(mesg_dict):\n",
    "    df = pd.DataFrame(mesg_dict)\n",
    "    return df"
   ]
  },
  {
   "cell_type": "code",
   "execution_count": 12,
   "metadata": {},
   "outputs": [],
   "source": [
    "df = convert_to_DF(dct)"
   ]
  },
  {
   "cell_type": "markdown",
   "metadata": {},
   "source": [
    "#### 3.2.3 Analyse the DataFrame"
   ]
  },
  {
   "cell_type": "code",
   "execution_count": 13,
   "metadata": {},
   "outputs": [],
   "source": [
    "df_counts = df.groupby('who_sent').agg({'sent_what':'count'})"
   ]
  },
  {
   "cell_type": "code",
   "execution_count": 14,
   "metadata": {},
   "outputs": [
    {
     "data": {
      "text/html": [
       "<div>\n",
       "<style scoped>\n",
       "    .dataframe tbody tr th:only-of-type {\n",
       "        vertical-align: middle;\n",
       "    }\n",
       "\n",
       "    .dataframe tbody tr th {\n",
       "        vertical-align: top;\n",
       "    }\n",
       "\n",
       "    .dataframe thead th {\n",
       "        text-align: right;\n",
       "    }\n",
       "</style>\n",
       "<table border=\"1\" class=\"dataframe\">\n",
       "  <thead>\n",
       "    <tr style=\"text-align: right;\">\n",
       "      <th></th>\n",
       "      <th>sent_what</th>\n",
       "    </tr>\n",
       "    <tr>\n",
       "      <th>who_sent</th>\n",
       "      <th></th>\n",
       "    </tr>\n",
       "  </thead>\n",
       "  <tbody>\n",
       "    <tr>\n",
       "      <th>Harsha</th>\n",
       "      <td>674</td>\n",
       "    </tr>\n",
       "    <tr>\n",
       "      <th>Manoj US Mobil</th>\n",
       "      <td>265</td>\n",
       "    </tr>\n",
       "    <tr>\n",
       "      <th>Suman China</th>\n",
       "      <td>554</td>\n",
       "    </tr>\n",
       "    <tr>\n",
       "      <th>Vamsi Namburu</th>\n",
       "      <td>289</td>\n",
       "    </tr>\n",
       "    <tr>\n",
       "      <th>Yogeesh</th>\n",
       "      <td>1309</td>\n",
       "    </tr>\n",
       "    <tr>\n",
       "      <th>‪+91 99890 28742‬</th>\n",
       "      <td>7</td>\n",
       "    </tr>\n",
       "  </tbody>\n",
       "</table>\n",
       "</div>"
      ],
      "text/plain": [
       "                   sent_what\n",
       "who_sent                    \n",
       "Harsha                   674\n",
       "Manoj US Mobil           265\n",
       "Suman China              554\n",
       "Vamsi Namburu            289\n",
       "Yogeesh                 1309\n",
       "‪+91 99890 28742‬          7"
      ]
     },
     "execution_count": 14,
     "metadata": {},
     "output_type": "execute_result"
    }
   ],
   "source": [
    "#messages by each group member\n",
    "df_counts"
   ]
  },
  {
   "cell_type": "markdown",
   "metadata": {},
   "source": [
    "#### 3.2.4 Histogram plot of message count by each group member"
   ]
  },
  {
   "cell_type": "code",
   "execution_count": 15,
   "metadata": {},
   "outputs": [
    {
     "data": {
      "text/plain": [
       "<matplotlib.axes._subplots.AxesSubplot at 0x7f6c16d77150>"
      ]
     },
     "execution_count": 15,
     "metadata": {},
     "output_type": "execute_result"
    },
    {
     "data": {
      "image/png": "[encoded data removed]",
      "text/plain": [
       "<Figure size 432x288 with 1 Axes>"
      ]
     },
     "metadata": {},
     "output_type": "display_data"
    }
   ],
   "source": [
    "df_counts.sort_values(by='sent_what',ascending=False).plot(kind='bar')"
   ]
  },
  {
   "cell_type": "markdown",
   "metadata": {},
   "source": [
    "#### 3.2.5 Cumulative sum of message length sent by each member"
   ]
  },
  {
   "cell_type": "code",
   "execution_count": 16,
   "metadata": {},
   "outputs": [
    {
     "data": {
      "text/html": [
       "<div>\n",
       "<style scoped>\n",
       "    .dataframe tbody tr th:only-of-type {\n",
       "        vertical-align: middle;\n",
       "    }\n",
       "\n",
       "    .dataframe tbody tr th {\n",
       "        vertical-align: top;\n",
       "    }\n",
       "\n",
       "    .dataframe thead th {\n",
       "        text-align: right;\n",
       "    }\n",
       "</style>\n",
       "<table border=\"1\" class=\"dataframe\">\n",
       "  <thead>\n",
       "    <tr style=\"text-align: right;\">\n",
       "      <th></th>\n",
       "      <th>how_much</th>\n",
       "    </tr>\n",
       "    <tr>\n",
       "      <th>who_sent</th>\n",
       "      <th></th>\n",
       "    </tr>\n",
       "  </thead>\n",
       "  <tbody>\n",
       "    <tr>\n",
       "      <th>Harsha</th>\n",
       "      <td>45845</td>\n",
       "    </tr>\n",
       "    <tr>\n",
       "      <th>Manoj US Mobil</th>\n",
       "      <td>6934</td>\n",
       "    </tr>\n",
       "    <tr>\n",
       "      <th>Suman China</th>\n",
       "      <td>52879</td>\n",
       "    </tr>\n",
       "    <tr>\n",
       "      <th>Vamsi Namburu</th>\n",
       "      <td>12573</td>\n",
       "    </tr>\n",
       "    <tr>\n",
       "      <th>Yogeesh</th>\n",
       "      <td>280676</td>\n",
       "    </tr>\n",
       "    <tr>\n",
       "      <th>‪+91 99890 28742‬</th>\n",
       "      <td>118</td>\n",
       "    </tr>\n",
       "  </tbody>\n",
       "</table>\n",
       "</div>"
      ],
      "text/plain": [
       "                   how_much\n",
       "who_sent                   \n",
       "Harsha                45845\n",
       "Manoj US Mobil         6934\n",
       "Suman China           52879\n",
       "Vamsi Namburu         12573\n",
       "Yogeesh              280676\n",
       "‪+91 99890 28742‬       118"
      ]
     },
     "execution_count": 16,
     "metadata": {},
     "output_type": "execute_result"
    }
   ],
   "source": [
    "df_mesgs = df.groupby('who_sent').agg({'how_much':'sum'})\n",
    "df_mesgs"
   ]
  },
  {
   "cell_type": "code",
   "execution_count": 17,
   "metadata": {},
   "outputs": [
    {
     "data": {
      "text/plain": [
       "<matplotlib.axes._subplots.AxesSubplot at 0x7f6c16a08f10>"
      ]
     },
     "execution_count": 17,
     "metadata": {},
     "output_type": "execute_result"
    },
    {
     "data": {
      "image/png": "[encoded data removed]",
      "text/plain": [
       "<Figure size 432x288 with 1 Axes>"
      ]
     },
     "metadata": {},
     "output_type": "display_data"
    }
   ],
   "source": [
    "df_mesgs.sort_values(by='how_much',ascending=False).plot(kind='bar')"
   ]
  },
  {
   "cell_type": "markdown",
   "metadata": {},
   "source": [
    "#### 3.2.6 Average Message Size"
   ]
  },
  {
   "cell_type": "code",
   "execution_count": 18,
   "metadata": {},
   "outputs": [
    {
     "data": {
      "text/html": [
       "<div>\n",
       "<style scoped>\n",
       "    .dataframe tbody tr th:only-of-type {\n",
       "        vertical-align: middle;\n",
       "    }\n",
       "\n",
       "    .dataframe tbody tr th {\n",
       "        vertical-align: top;\n",
       "    }\n",
       "\n",
       "    .dataframe thead th {\n",
       "        text-align: right;\n",
       "    }\n",
       "</style>\n",
       "<table border=\"1\" class=\"dataframe\">\n",
       "  <thead>\n",
       "    <tr style=\"text-align: right;\">\n",
       "      <th></th>\n",
       "      <th>how_much</th>\n",
       "    </tr>\n",
       "    <tr>\n",
       "      <th>who_sent</th>\n",
       "      <th></th>\n",
       "    </tr>\n",
       "  </thead>\n",
       "  <tbody>\n",
       "    <tr>\n",
       "      <th>Harsha</th>\n",
       "      <td>68.019288</td>\n",
       "    </tr>\n",
       "    <tr>\n",
       "      <th>Manoj US Mobil</th>\n",
       "      <td>26.166038</td>\n",
       "    </tr>\n",
       "    <tr>\n",
       "      <th>Suman China</th>\n",
       "      <td>95.449458</td>\n",
       "    </tr>\n",
       "    <tr>\n",
       "      <th>Vamsi Namburu</th>\n",
       "      <td>43.505190</td>\n",
       "    </tr>\n",
       "    <tr>\n",
       "      <th>Yogeesh</th>\n",
       "      <td>214.420168</td>\n",
       "    </tr>\n",
       "    <tr>\n",
       "      <th>‪+91 99890 28742‬</th>\n",
       "      <td>16.857143</td>\n",
       "    </tr>\n",
       "  </tbody>\n",
       "</table>\n",
       "</div>"
      ],
      "text/plain": [
       "                     how_much\n",
       "who_sent                     \n",
       "Harsha              68.019288\n",
       "Manoj US Mobil      26.166038\n",
       "Suman China         95.449458\n",
       "Vamsi Namburu       43.505190\n",
       "Yogeesh            214.420168\n",
       "‪+91 99890 28742‬   16.857143"
      ]
     },
     "execution_count": 18,
     "metadata": {},
     "output_type": "execute_result"
    }
   ],
   "source": [
    "df_avg_mesg = df.groupby('who_sent').agg({'how_much':'mean'})\n",
    "df_avg_mesg"
   ]
  },
  {
   "cell_type": "code",
   "execution_count": 19,
   "metadata": {},
   "outputs": [
    {
     "data": {
      "text/plain": [
       "<matplotlib.axes._subplots.AxesSubplot at 0x7f6c16980b50>"
      ]
     },
     "execution_count": 19,
     "metadata": {},
     "output_type": "execute_result"
    },
    {
     "data": {
      "image/png": "[encoded data removed]",
      "text/plain": [
       "<Figure size 432x288 with 1 Axes>"
      ]
     },
     "metadata": {},
     "output_type": "display_data"
    }
   ],
   "source": [
    "df_avg_mesg.sort_values(by='how_much',ascending=False).plot(kind='bar')\n"
   ]
  },
  {
   "cell_type": "markdown",
   "metadata": {},
   "source": [
    "#### 3.2.7 Who shared maximum media"
   ]
  },
  {
   "cell_type": "code",
   "execution_count": 20,
   "metadata": {},
   "outputs": [
    {
     "data": {
      "text/html": [
       "<div>\n",
       "<style scoped>\n",
       "    .dataframe tbody tr th:only-of-type {\n",
       "        vertical-align: middle;\n",
       "    }\n",
       "\n",
       "    .dataframe tbody tr th {\n",
       "        vertical-align: top;\n",
       "    }\n",
       "\n",
       "    .dataframe thead th {\n",
       "        text-align: right;\n",
       "    }\n",
       "</style>\n",
       "<table border=\"1\" class=\"dataframe\">\n",
       "  <thead>\n",
       "    <tr style=\"text-align: right;\">\n",
       "      <th></th>\n",
       "      <th>sent_what</th>\n",
       "    </tr>\n",
       "    <tr>\n",
       "      <th>who_sent</th>\n",
       "      <th></th>\n",
       "    </tr>\n",
       "  </thead>\n",
       "  <tbody>\n",
       "    <tr>\n",
       "      <th>Yogeesh</th>\n",
       "      <td>535</td>\n",
       "    </tr>\n",
       "    <tr>\n",
       "      <th>Suman China</th>\n",
       "      <td>193</td>\n",
       "    </tr>\n",
       "    <tr>\n",
       "      <th>Harsha</th>\n",
       "      <td>139</td>\n",
       "    </tr>\n",
       "    <tr>\n",
       "      <th>Vamsi Namburu</th>\n",
       "      <td>41</td>\n",
       "    </tr>\n",
       "    <tr>\n",
       "      <th>‪+91 99890 28742‬</th>\n",
       "      <td>4</td>\n",
       "    </tr>\n",
       "  </tbody>\n",
       "</table>\n",
       "</div>"
      ],
      "text/plain": [
       "                   sent_what\n",
       "who_sent                    \n",
       "Yogeesh                  535\n",
       "Suman China              193\n",
       "Harsha                   139\n",
       "Vamsi Namburu             41\n",
       "‪+91 99890 28742‬          4"
      ]
     },
     "execution_count": 20,
     "metadata": {},
     "output_type": "execute_result"
    }
   ],
   "source": [
    "# Pass a boolean series to create another dataframe\n",
    "media_mask = df['sent_media'] == 'Y'\n",
    "df_media = df[media_mask].groupby('who_sent').agg({'sent_what':'count'}).sort_values(by='sent_what',ascending=False)\n",
    "df_media"
   ]
  },
  {
   "cell_type": "code",
   "execution_count": 21,
   "metadata": {},
   "outputs": [
    {
     "data": {
      "text/plain": [
       "'Yogeesh sent maxiumum number of messages : 535'"
      ]
     },
     "execution_count": 21,
     "metadata": {},
     "output_type": "execute_result"
    }
   ],
   "source": [
    "df_media.idxmax()['sent_what'] + \" sent maxiumum number of messages : \"+ str(df_media.max()['sent_what'])"
   ]
  },
  {
   "cell_type": "code",
   "execution_count": 22,
   "metadata": {},
   "outputs": [
    {
     "data": {
      "text/plain": [
       "<matplotlib.axes._subplots.AxesSubplot at 0x7f6c169ed350>"
      ]
     },
     "execution_count": 22,
     "metadata": {},
     "output_type": "execute_result"
    },
    {
     "data": {
      "image/png": "[encoded data removed]",
      "text/plain": [
       "<Figure size 432x288 with 1 Axes>"
      ]
     },
     "metadata": {},
     "output_type": "display_data"
    }
   ],
   "source": [
    "df_media.plot(kind='bar',colormap='ocean')"
   ]
  },
  {
   "cell_type": "code",
   "execution_count": 23,
   "metadata": {},
   "outputs": [
    {
     "data": {
      "text/plain": [
       "array([<matplotlib.axes._subplots.AxesSubplot object at 0x7f6c16875550>],\n",
       "      dtype=object)"
      ]
     },
     "execution_count": 23,
     "metadata": {},
     "output_type": "execute_result"
    },
    {
     "data": {
      "image/png": "[encoded data removed]",
      "text/plain": [
       "<Figure size 432x288 with 1 Axes>"
      ]
     },
     "metadata": {},
     "output_type": "display_data"
    }
   ],
   "source": [
    "df_media.plot(subplots=True,kind='pie',autopct='%.0f',colormap='Greens')"
   ]
  },
  {
   "cell_type": "markdown",
   "metadata": {},
   "source": [
    "#### 3.2.8 Who has sent the largest message and when"
   ]
  },
  {
   "cell_type": "code",
   "execution_count": 24,
   "metadata": {},
   "outputs": [
    {
     "name": "stdout",
     "output_type": "stream",
     "text": [
      "On 2018-02-15 at 23:59:00 ‪+91 99890 28742‬ sent the largest message which is 11377\n"
     ]
    }
   ],
   "source": [
    "d = df.max()\n",
    "print \"On \"+str(d['when_day'])+\" at \"+str(d['when_time'])+' '+d['who_sent']+' sent the largest message which is '+str(d['how_much'])"
   ]
  },
  {
   "cell_type": "markdown",
   "metadata": {},
   "source": [
    "#### 3.2.9 The day when the most number of messages were sent"
   ]
  },
  {
   "cell_type": "code",
   "execution_count": 25,
   "metadata": {},
   "outputs": [
    {
     "data": {
      "text/plain": [
       "'On 2016-12-25 a maximum of 128 messages were exchanged in the group'"
      ]
     },
     "execution_count": 25,
     "metadata": {},
     "output_type": "execute_result"
    }
   ],
   "source": [
    "d = df.groupby('when_day').agg({'sent_what':'count'})\n",
    "x = \"On \"+str(d.idxmax()['sent_what'])+' a maximum of '+str(d.max()['sent_what'])+\" messages were exchanged in the group\"\n",
    "x"
   ]
  },
  {
   "cell_type": "markdown",
   "metadata": {},
   "source": [
    "#### 3.2.10 When were most number of media shared"
   ]
  },
  {
   "cell_type": "code",
   "execution_count": 26,
   "metadata": {},
   "outputs": [
    {
     "data": {
      "text/plain": [
       "<matplotlib.axes._subplots.AxesSubplot at 0x7f6c16829690>"
      ]
     },
     "execution_count": 26,
     "metadata": {},
     "output_type": "execute_result"
    },
    {
     "data": {
      "image/png": "[encoded data removed]",
      "text/plain": [
       "<Figure size 432x288 with 1 Axes>"
      ]
     },
     "metadata": {},
     "output_type": "display_data"
    }
   ],
   "source": [
    "media_mask = df['sent_media'] == 'Y'\n",
    "df_media = df[media_mask].groupby('when_day').agg({'sent_what':'count'}).sort_values(by='sent_what',ascending=False).head(20)\n",
    "df_media.plot(kind='bar',colormap='ocean')"
   ]
  },
  {
   "cell_type": "markdown",
   "metadata": {},
   "source": [
    "#### 3.2.11 Busiest Hour for the group"
   ]
  },
  {
   "cell_type": "code",
   "execution_count": 27,
   "metadata": {},
   "outputs": [
    {
     "data": {
      "text/plain": [
       "<matplotlib.axes._subplots.AxesSubplot at 0x7f6c1691f150>"
      ]
     },
     "execution_count": 27,
     "metadata": {},
     "output_type": "execute_result"
    },
    {
     "data": {
      "image/png": "[encoded data removed]",
      "text/plain": [
       "<Figure size 432x288 with 1 Axes>"
      ]
     },
     "metadata": {},
     "output_type": "display_data"
    }
   ],
   "source": [
    "df['hour'] = df['when_time'].apply(lambda x : x.hour)\n",
    "df.groupby('hour').agg({\"sent_what\":\"count\"}).plot(kind='bar')"
   ]
  },
  {
   "cell_type": "markdown",
   "metadata": {},
   "source": [
    "##### Majority of the messages are sent at 18:00 roughly the logff time"
   ]
  },
  {
   "cell_type": "markdown",
   "metadata": {},
   "source": [
    "### 4 Sentiment Analysis using Google Natural Language API"
   ]
  },
  {
   "cell_type": "markdown",
   "metadata": {},
   "source": [
    "#### 4.1.1 Google API Setup"
   ]
  },
  {
   "cell_type": "markdown",
   "metadata": {},
   "source": [
    "+ If using pip, install google-cloud-language \n",
    "+ If using Anaconda, install google-cloud-sdk & bioconda"
   ]
  },
  {
   "cell_type": "markdown",
   "metadata": {},
   "source": [
    "#### 4.1.2 Setup of API Key and OS Parameter"
   ]
  },
  {
   "cell_type": "markdown",
   "metadata": {},
   "source": [
    "+ Download API Key Json from Google account\n",
    "+ Setup GOOGLE_LANGUAGE_CREDENTIALS environment variable to point to the json file\n",
    "[Detailed instructions available here](https://cloud.google.com/natural-language/docs/reference/libraries#client-libraries-install-python)"
   ]
  },
  {
   "cell_type": "code",
   "execution_count": 28,
   "metadata": {},
   "outputs": [],
   "source": [
    "# Google Natural Language API to analyse sentiments\n",
    "from google.cloud import language\n",
    "from google.cloud.language import enums\n",
    "from google.cloud.language import types"
   ]
  },
  {
   "cell_type": "code",
   "execution_count": 29,
   "metadata": {},
   "outputs": [],
   "source": [
    "client = language.LanguageServiceClient()"
   ]
  },
  {
   "cell_type": "markdown",
   "metadata": {},
   "source": [
    "#### 4.2.1 Create a function to get sentiment for a text"
   ]
  },
  {
   "cell_type": "code",
   "execution_count": 30,
   "metadata": {},
   "outputs": [],
   "source": [
    "def get_sentiment(mesg):\n",
    "    try:\n",
    "        \n",
    "        document = types.Document(content=mesg,type=enums.Document.Type.PLAIN_TEXT)\n",
    "        sentiment = client.analyze_sentiment(document=document).document_sentiment\n",
    "        return round(sentiment.score,2)\n",
    "    except:\n",
    "        return 0\n",
    "#exception used to avoid messages failing due to non-english messages and non-standard text"
   ]
  },
  {
   "cell_type": "markdown",
   "metadata": {},
   "source": [
    "#### 4.2.2 Test a sample set of messages"
   ]
  },
  {
   "cell_type": "code",
   "execution_count": 31,
   "metadata": {},
   "outputs": [
    {
     "data": {
      "text/plain": [
       "-0.9"
      ]
     },
     "execution_count": 31,
     "metadata": {},
     "output_type": "execute_result"
    }
   ],
   "source": [
    "get_sentiment('I am very disappointed')"
   ]
  },
  {
   "cell_type": "code",
   "execution_count": 32,
   "metadata": {},
   "outputs": [
    {
     "data": {
      "text/plain": [
       "0.9"
      ]
     },
     "execution_count": 32,
     "metadata": {},
     "output_type": "execute_result"
    }
   ],
   "source": [
    "get_sentiment('Happiest moment of my life')"
   ]
  },
  {
   "cell_type": "markdown",
   "metadata": {},
   "source": [
    "#### 4.3.1 Analyse sentiment for the month of Dec-2016"
   ]
  },
  {
   "cell_type": "code",
   "execution_count": 33,
   "metadata": {
    "collapsed": true
   },
   "outputs": [
    {
     "name": "stderr",
     "output_type": "stream",
     "text": [
      "/home/vamsi/.conda/envs/my_env27/lib/python2.7/site-packages/ipykernel/__main__.py:5: SettingWithCopyWarning: \n",
      "A value is trying to be set on a copy of a slice from a DataFrame.\n",
      "Try using .loc[row_indexer,col_indexer] = value instead\n",
      "\n",
      "See the caveats in the documentation: http://pandas.pydata.org/pandas-docs/stable/indexing.html#indexing-view-versus-copy\n"
     ]
    }
   ],
   "source": [
    "dt_dec_1_2016  = datetime.date(datetime(2016,12,1))\n",
    "dt_dec_31_2016 = datetime.date(datetime(2016,12,31))\n",
    "dec_mask = (df['when_day'] >= dt_dec_1_2016) & (df['when_day'] <= dt_dec_31_2016)\n",
    "d = df[dec_mask]\n",
    "d['sentiment'] = d['sent_what'].map(lambda x : get_sentiment(x))"
   ]
  },
  {
   "cell_type": "markdown",
   "metadata": {},
   "source": [
    "#### 4.3.2 Messages with Positive Sentiment"
   ]
  },
  {
   "cell_type": "code",
   "execution_count": 34,
   "metadata": {},
   "outputs": [
    {
     "data": {
      "text/html": [
       "<div>\n",
       "<style scoped>\n",
       "    .dataframe tbody tr th:only-of-type {\n",
       "        vertical-align: middle;\n",
       "    }\n",
       "\n",
       "    .dataframe tbody tr th {\n",
       "        vertical-align: top;\n",
       "    }\n",
       "\n",
       "    .dataframe thead th {\n",
       "        text-align: right;\n",
       "    }\n",
       "</style>\n",
       "<table border=\"1\" class=\"dataframe\">\n",
       "  <thead>\n",
       "    <tr style=\"text-align: right;\">\n",
       "      <th></th>\n",
       "      <th>how_much</th>\n",
       "      <th>sent_media</th>\n",
       "      <th>sent_what</th>\n",
       "      <th>when_day</th>\n",
       "      <th>when_time</th>\n",
       "      <th>who_sent</th>\n",
       "      <th>hour</th>\n",
       "      <th>sentiment</th>\n",
       "    </tr>\n",
       "  </thead>\n",
       "  <tbody>\n",
       "    <tr>\n",
       "      <th>1160</th>\n",
       "      <td>8</td>\n",
       "      <td>N</td>\n",
       "      <td>Is good</td>\n",
       "      <td>2016-12-25</td>\n",
       "      <td>18:01:00</td>\n",
       "      <td>Suman China</td>\n",
       "      <td>18</td>\n",
       "      <td>0.7</td>\n",
       "    </tr>\n",
       "    <tr>\n",
       "      <th>1172</th>\n",
       "      <td>25</td>\n",
       "      <td>N</td>\n",
       "      <td>Dhruva is also very good</td>\n",
       "      <td>2016-12-25</td>\n",
       "      <td>18:04:00</td>\n",
       "      <td>Yogeesh</td>\n",
       "      <td>18</td>\n",
       "      <td>0.8</td>\n",
       "    </tr>\n",
       "    <tr>\n",
       "      <th>1188</th>\n",
       "      <td>23</td>\n",
       "      <td>N</td>\n",
       "      <td>Happy Christmas to all</td>\n",
       "      <td>2016-12-25</td>\n",
       "      <td>18:09:00</td>\n",
       "      <td>Suman China</td>\n",
       "      <td>18</td>\n",
       "      <td>0.8</td>\n",
       "    </tr>\n",
       "    <tr>\n",
       "      <th>1194</th>\n",
       "      <td>12</td>\n",
       "      <td>N</td>\n",
       "      <td>Enjoy Suman</td>\n",
       "      <td>2016-12-25</td>\n",
       "      <td>18:10:00</td>\n",
       "      <td>Harsha</td>\n",
       "      <td>18</td>\n",
       "      <td>0.8</td>\n",
       "    </tr>\n",
       "  </tbody>\n",
       "</table>\n",
       "</div>"
      ],
      "text/plain": [
       "      how_much sent_media                  sent_what    when_day when_time  \\\n",
       "1160         8          N                    Is good  2016-12-25  18:01:00   \n",
       "1172        25          N   Dhruva is also very good  2016-12-25  18:04:00   \n",
       "1188        23          N     Happy Christmas to all  2016-12-25  18:09:00   \n",
       "1194        12          N                Enjoy Suman  2016-12-25  18:10:00   \n",
       "\n",
       "         who_sent  hour  sentiment  \n",
       "1160  Suman China    18        0.7  \n",
       "1172      Yogeesh    18        0.8  \n",
       "1188  Suman China    18        0.8  \n",
       "1194       Harsha    18        0.8  "
      ]
     },
     "execution_count": 34,
     "metadata": {},
     "output_type": "execute_result"
    }
   ],
   "source": [
    "d[d['sentiment'] > 0.5 ][6:10]"
   ]
  },
  {
   "cell_type": "markdown",
   "metadata": {},
   "source": [
    "#### 4.3.3 Messages with Negative Sentiment"
   ]
  },
  {
   "cell_type": "code",
   "execution_count": 35,
   "metadata": {},
   "outputs": [
    {
     "data": {
      "text/html": [
       "<div>\n",
       "<style scoped>\n",
       "    .dataframe tbody tr th:only-of-type {\n",
       "        vertical-align: middle;\n",
       "    }\n",
       "\n",
       "    .dataframe tbody tr th {\n",
       "        vertical-align: top;\n",
       "    }\n",
       "\n",
       "    .dataframe thead th {\n",
       "        text-align: right;\n",
       "    }\n",
       "</style>\n",
       "<table border=\"1\" class=\"dataframe\">\n",
       "  <thead>\n",
       "    <tr style=\"text-align: right;\">\n",
       "      <th></th>\n",
       "      <th>how_much</th>\n",
       "      <th>sent_media</th>\n",
       "      <th>sent_what</th>\n",
       "      <th>when_day</th>\n",
       "      <th>when_time</th>\n",
       "      <th>who_sent</th>\n",
       "      <th>hour</th>\n",
       "      <th>sentiment</th>\n",
       "    </tr>\n",
       "  </thead>\n",
       "  <tbody>\n",
       "    <tr>\n",
       "      <th>1217</th>\n",
       "      <td>22</td>\n",
       "      <td>N</td>\n",
       "      <td>Yes, song is very bad</td>\n",
       "      <td>2016-12-25</td>\n",
       "      <td>18:15:00</td>\n",
       "      <td>Suman China</td>\n",
       "      <td>18</td>\n",
       "      <td>-0.7</td>\n",
       "    </tr>\n",
       "    <tr>\n",
       "      <th>1218</th>\n",
       "      <td>16</td>\n",
       "      <td>N</td>\n",
       "      <td>No one can humm</td>\n",
       "      <td>2016-12-25</td>\n",
       "      <td>18:15:00</td>\n",
       "      <td>Suman China</td>\n",
       "      <td>18</td>\n",
       "      <td>-0.4</td>\n",
       "    </tr>\n",
       "  </tbody>\n",
       "</table>\n",
       "</div>"
      ],
      "text/plain": [
       "      how_much sent_media               sent_what    when_day when_time  \\\n",
       "1217        22          N   Yes, song is very bad  2016-12-25  18:15:00   \n",
       "1218        16          N         No one can humm  2016-12-25  18:15:00   \n",
       "\n",
       "         who_sent  hour  sentiment  \n",
       "1217  Suman China    18       -0.7  \n",
       "1218  Suman China    18       -0.4  "
      ]
     },
     "execution_count": 35,
     "metadata": {},
     "output_type": "execute_result"
    }
   ],
   "source": [
    "d[d['sentiment'] < -0.2 ][6:8]"
   ]
  },
  {
   "cell_type": "code",
   "execution_count": null,
   "metadata": {},
   "outputs": [],
   "source": []
  }
 ],
 "metadata": {
  "kernelspec": {
   "display_name": "Python [default]",
   "language": "python",
   "name": "python2"
  },
  "language_info": {
   "codemirror_mode": {
    "name": "ipython",
    "version": 2
   },
   "file_extension": ".py",
   "mimetype": "text/x-python",
   "name": "python",
   "nbconvert_exporter": "python",
   "pygments_lexer": "ipython2",
   "version": "2.7.15"
  }
 },
 "nbformat": 4,
 "nbformat_minor": 2
}
